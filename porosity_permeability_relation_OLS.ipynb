{
 "cells": [
  {
   "cell_type": "code",
   "execution_count": 11,
   "id": "4667be0f",
   "metadata": {},
   "outputs": [
    {
     "name": "stdout",
     "output_type": "stream",
     "text": [
      "Collecting statsmodels\n",
      "  Downloading statsmodels-0.14.0-cp310-cp310-win_amd64.whl (9.2 MB)\n",
      "     ---------------------------------------- 0.0/9.2 MB ? eta -:--:--\n",
      "     ---------------------------------------- 0.0/9.2 MB 960.0 kB/s eta 0:00:10\n",
      "      --------------------------------------- 0.2/9.2 MB 2.4 MB/s eta 0:00:04\n",
      "     - -------------------------------------- 0.3/9.2 MB 2.2 MB/s eta 0:00:05\n",
      "     - -------------------------------------- 0.4/9.2 MB 2.5 MB/s eta 0:00:04\n",
      "     -- ------------------------------------- 0.6/9.2 MB 2.7 MB/s eta 0:00:04\n",
      "     --- ------------------------------------ 0.7/9.2 MB 2.8 MB/s eta 0:00:04\n",
      "     --- ------------------------------------ 0.8/9.2 MB 2.8 MB/s eta 0:00:04\n",
      "     ---- ----------------------------------- 1.0/9.2 MB 2.7 MB/s eta 0:00:04\n",
      "     ---- ----------------------------------- 1.1/9.2 MB 2.8 MB/s eta 0:00:03\n",
      "     ----- ---------------------------------- 1.2/9.2 MB 2.7 MB/s eta 0:00:03\n",
      "     ----- ---------------------------------- 1.4/9.2 MB 2.7 MB/s eta 0:00:03\n",
      "     ----- ---------------------------------- 1.4/9.2 MB 2.7 MB/s eta 0:00:03\n",
      "     ----- ---------------------------------- 1.4/9.2 MB 2.7 MB/s eta 0:00:03\n",
      "     ----- ---------------------------------- 1.4/9.2 MB 2.7 MB/s eta 0:00:03\n",
      "     ----- ---------------------------------- 1.4/9.2 MB 2.7 MB/s eta 0:00:03\n",
      "     ----- ---------------------------------- 1.4/9.2 MB 2.7 MB/s eta 0:00:03\n",
      "     ----- ---------------------------------- 1.4/9.2 MB 2.7 MB/s eta 0:00:03\n",
      "     ----- ---------------------------------- 1.4/9.2 MB 2.7 MB/s eta 0:00:03\n",
      "     ------ --------------------------------- 1.5/9.2 MB 1.7 MB/s eta 0:00:05\n",
      "     ------- -------------------------------- 1.6/9.2 MB 1.8 MB/s eta 0:00:05\n",
      "     ------- -------------------------------- 1.6/9.2 MB 1.8 MB/s eta 0:00:05\n",
      "     ------- -------------------------------- 1.8/9.2 MB 1.8 MB/s eta 0:00:05\n",
      "     -------- ------------------------------- 1.9/9.2 MB 1.8 MB/s eta 0:00:05\n",
      "     -------- ------------------------------- 2.0/9.2 MB 1.8 MB/s eta 0:00:04\n",
      "     --------- ------------------------------ 2.1/9.2 MB 1.8 MB/s eta 0:00:04\n",
      "     --------- ------------------------------ 2.2/9.2 MB 1.8 MB/s eta 0:00:04\n",
      "     ---------- ----------------------------- 2.4/9.2 MB 1.9 MB/s eta 0:00:04\n",
      "     ---------- ----------------------------- 2.5/9.2 MB 1.9 MB/s eta 0:00:04\n",
      "     ----------- ---------------------------- 2.6/9.2 MB 1.9 MB/s eta 0:00:04\n",
      "     ----------- ---------------------------- 2.7/9.2 MB 1.9 MB/s eta 0:00:04\n",
      "     ------------ --------------------------- 2.8/9.2 MB 2.0 MB/s eta 0:00:04\n",
      "     ------------- -------------------------- 3.0/9.2 MB 2.0 MB/s eta 0:00:04\n",
      "     ------------- -------------------------- 3.2/9.2 MB 2.1 MB/s eta 0:00:03\n",
      "     -------------- ------------------------- 3.3/9.2 MB 2.1 MB/s eta 0:00:03\n",
      "     --------------- ------------------------ 3.5/9.2 MB 2.1 MB/s eta 0:00:03\n",
      "     --------------- ------------------------ 3.6/9.2 MB 2.1 MB/s eta 0:00:03\n",
      "     ---------------- ----------------------- 3.7/9.2 MB 2.2 MB/s eta 0:00:03\n",
      "     ---------------- ----------------------- 3.8/9.2 MB 2.2 MB/s eta 0:00:03\n",
      "     ----------------- ---------------------- 4.0/9.2 MB 2.2 MB/s eta 0:00:03\n",
      "     ----------------- ---------------------- 4.1/9.2 MB 2.2 MB/s eta 0:00:03\n",
      "     ------------------ --------------------- 4.2/9.2 MB 2.2 MB/s eta 0:00:03\n",
      "     ------------------- -------------------- 4.4/9.2 MB 2.2 MB/s eta 0:00:03\n",
      "     ------------------- -------------------- 4.5/9.2 MB 2.2 MB/s eta 0:00:03\n",
      "     -------------------- ------------------- 4.6/9.2 MB 2.2 MB/s eta 0:00:03\n",
      "     -------------------- ------------------- 4.8/9.2 MB 2.3 MB/s eta 0:00:02\n",
      "     --------------------- ------------------ 5.0/9.2 MB 2.3 MB/s eta 0:00:02\n",
      "     --------------------- ------------------ 5.0/9.2 MB 2.3 MB/s eta 0:00:02\n",
      "     ---------------------- ----------------- 5.2/9.2 MB 2.3 MB/s eta 0:00:02\n",
      "     ---------------------- ----------------- 5.3/9.2 MB 2.3 MB/s eta 0:00:02\n",
      "     ----------------------- ---------------- 5.4/9.2 MB 2.3 MB/s eta 0:00:02\n",
      "     ----------------------- ---------------- 5.5/9.2 MB 2.3 MB/s eta 0:00:02\n",
      "     ------------------------ --------------- 5.7/9.2 MB 2.3 MB/s eta 0:00:02\n",
      "     ------------------------- -------------- 5.8/9.2 MB 2.3 MB/s eta 0:00:02\n",
      "     ------------------------- -------------- 6.0/9.2 MB 2.4 MB/s eta 0:00:02\n",
      "     ------------------------- -------------- 6.0/9.2 MB 2.4 MB/s eta 0:00:02\n",
      "     -------------------------- ------------- 6.0/9.2 MB 2.3 MB/s eta 0:00:02\n",
      "     -------------------------- ------------- 6.1/9.2 MB 2.3 MB/s eta 0:00:02\n",
      "     -------------------------- ------------- 6.1/9.2 MB 2.3 MB/s eta 0:00:02\n",
      "     -------------------------- ------------- 6.1/9.2 MB 2.3 MB/s eta 0:00:02\n",
      "     -------------------------- ------------- 6.1/9.2 MB 2.3 MB/s eta 0:00:02\n",
      "     -------------------------- ------------- 6.1/9.2 MB 2.1 MB/s eta 0:00:02\n",
      "     -------------------------- ------------- 6.1/9.2 MB 2.1 MB/s eta 0:00:02\n",
      "     --------------------------- ------------ 6.3/9.2 MB 2.1 MB/s eta 0:00:02\n",
      "     ---------------------------- ----------- 6.5/9.2 MB 2.2 MB/s eta 0:00:02\n",
      "     ---------------------------- ----------- 6.6/9.2 MB 2.2 MB/s eta 0:00:02\n",
      "     ----------------------------- ---------- 6.7/9.2 MB 2.2 MB/s eta 0:00:02\n",
      "     ----------------------------- ---------- 6.8/9.2 MB 2.2 MB/s eta 0:00:02\n",
      "     ------------------------------ --------- 7.0/9.2 MB 2.2 MB/s eta 0:00:02\n",
      "     ------------------------------ --------- 7.1/9.2 MB 2.2 MB/s eta 0:00:01\n",
      "     ------------------------------- -------- 7.2/9.2 MB 2.2 MB/s eta 0:00:01\n",
      "     ------------------------------- -------- 7.3/9.2 MB 2.2 MB/s eta 0:00:01\n",
      "     -------------------------------- ------- 7.5/9.2 MB 2.2 MB/s eta 0:00:01\n",
      "     -------------------------------- ------- 7.6/9.2 MB 2.2 MB/s eta 0:00:01\n",
      "     --------------------------------- ------ 7.7/9.2 MB 2.2 MB/s eta 0:00:01\n",
      "     ---------------------------------- ----- 7.8/9.2 MB 2.2 MB/s eta 0:00:01\n",
      "     ---------------------------------- ----- 8.0/9.2 MB 2.2 MB/s eta 0:00:01\n",
      "     ----------------------------------- ---- 8.1/9.2 MB 2.2 MB/s eta 0:00:01\n",
      "     ------------------------------------ --- 8.3/9.2 MB 2.3 MB/s eta 0:00:01\n",
      "     ------------------------------------ --- 8.4/9.2 MB 2.3 MB/s eta 0:00:01\n",
      "     ------------------------------------- -- 8.5/9.2 MB 2.3 MB/s eta 0:00:01\n",
      "     ------------------------------------- -- 8.6/9.2 MB 2.3 MB/s eta 0:00:01\n",
      "     -------------------------------------- - 8.8/9.2 MB 2.3 MB/s eta 0:00:01\n",
      "     ---------------------------------------  9.0/9.2 MB 2.3 MB/s eta 0:00:01\n",
      "     ---------------------------------------  9.2/9.2 MB 2.3 MB/s eta 0:00:01\n",
      "     ---------------------------------------  9.2/9.2 MB 2.3 MB/s eta 0:00:01\n",
      "     ---------------------------------------- 9.2/9.2 MB 2.3 MB/s eta 0:00:00\n",
      "Requirement already satisfied: numpy>=1.18 in c:\\users\\argha009\\anaconda3\\envs\\machinelearning\\lib\\site-packages (from statsmodels) (1.25.2)\n",
      "Requirement already satisfied: scipy!=1.9.2,>=1.4 in c:\\users\\argha009\\anaconda3\\envs\\machinelearning\\lib\\site-packages (from statsmodels) (1.11.1)\n",
      "Requirement already satisfied: pandas>=1.0 in c:\\users\\argha009\\anaconda3\\envs\\machinelearning\\lib\\site-packages (from statsmodels) (2.0.3)\n",
      "Collecting patsy>=0.5.2 (from statsmodels)\n",
      "  Downloading patsy-0.5.3-py2.py3-none-any.whl (233 kB)\n",
      "     ---------------------------------------- 0.0/233.8 kB ? eta -:--:--\n",
      "     ---------------------------- --------- 174.1/233.8 kB 3.5 MB/s eta 0:00:01\n",
      "     -------------------------------------- 233.8/233.8 kB 3.6 MB/s eta 0:00:00\n",
      "Requirement already satisfied: packaging>=21.3 in c:\\users\\argha009\\anaconda3\\envs\\machinelearning\\lib\\site-packages (from statsmodels) (23.0)\n",
      "Requirement already satisfied: python-dateutil>=2.8.2 in c:\\users\\argha009\\anaconda3\\envs\\machinelearning\\lib\\site-packages (from pandas>=1.0->statsmodels) (2.8.2)\n",
      "Requirement already satisfied: pytz>=2020.1 in c:\\users\\argha009\\anaconda3\\envs\\machinelearning\\lib\\site-packages (from pandas>=1.0->statsmodels) (2022.7)\n",
      "Requirement already satisfied: tzdata>=2022.1 in c:\\users\\argha009\\anaconda3\\envs\\machinelearning\\lib\\site-packages (from pandas>=1.0->statsmodels) (2023.3)\n",
      "Requirement already satisfied: six in c:\\users\\argha009\\anaconda3\\envs\\machinelearning\\lib\\site-packages (from patsy>=0.5.2->statsmodels) (1.16.0)\n",
      "Installing collected packages: patsy, statsmodels\n",
      "Successfully installed patsy-0.5.3 statsmodels-0.14.0\n",
      "Note: you may need to restart the kernel to use updated packages.\n"
     ]
    }
   ],
   "source": [
    "pip install statsmodels"
   ]
  },
  {
   "cell_type": "code",
   "execution_count": 1,
   "id": "fe81ab4f",
   "metadata": {},
   "outputs": [],
   "source": [
    "import numpy as np\n",
    "import matplotlib.pyplot as plt\n",
    "import pandas as pd\n",
    "import seaborn as sns"
   ]
  },
  {
   "cell_type": "code",
   "execution_count": 2,
   "id": "974f96a9",
   "metadata": {},
   "outputs": [
    {
     "data": {
      "text/html": [
       "<div>\n",
       "<style scoped>\n",
       "    .dataframe tbody tr th:only-of-type {\n",
       "        vertical-align: middle;\n",
       "    }\n",
       "\n",
       "    .dataframe tbody tr th {\n",
       "        vertical-align: top;\n",
       "    }\n",
       "\n",
       "    .dataframe thead th {\n",
       "        text-align: right;\n",
       "    }\n",
       "</style>\n",
       "<table border=\"1\" class=\"dataframe\">\n",
       "  <thead>\n",
       "    <tr style=\"text-align: right;\">\n",
       "      <th></th>\n",
       "      <th>DEPTH</th>\n",
       "      <th>OrigDepth</th>\n",
       "      <th>CORE_NO</th>\n",
       "      <th>SAMPLE</th>\n",
       "      <th>CKHG</th>\n",
       "      <th>CKHL</th>\n",
       "      <th>CKVG</th>\n",
       "      <th>CKVL</th>\n",
       "      <th>CPOR</th>\n",
       "      <th>CPORV</th>\n",
       "      <th>So</th>\n",
       "      <th>Sw</th>\n",
       "      <th>CGD</th>\n",
       "      <th>CGDV</th>\n",
       "    </tr>\n",
       "  </thead>\n",
       "  <tbody>\n",
       "    <tr>\n",
       "      <th>0</th>\n",
       "      <td>3838.60</td>\n",
       "      <td>3837.00</td>\n",
       "      <td>1</td>\n",
       "      <td>1</td>\n",
       "      <td>13.80</td>\n",
       "      <td>11.500</td>\n",
       "      <td>NaN</td>\n",
       "      <td>NaN</td>\n",
       "      <td>17.0</td>\n",
       "      <td>NaN</td>\n",
       "      <td>NaN</td>\n",
       "      <td>NaN</td>\n",
       "      <td>2.66</td>\n",
       "      <td>NaN</td>\n",
       "    </tr>\n",
       "    <tr>\n",
       "      <th>1</th>\n",
       "      <td>3838.85</td>\n",
       "      <td>3837.25</td>\n",
       "      <td>1</td>\n",
       "      <td>2</td>\n",
       "      <td>NaN</td>\n",
       "      <td>NaN</td>\n",
       "      <td>NaN</td>\n",
       "      <td>NaN</td>\n",
       "      <td>14.8</td>\n",
       "      <td>NaN</td>\n",
       "      <td>NaN</td>\n",
       "      <td>NaN</td>\n",
       "      <td>2.67</td>\n",
       "      <td>NaN</td>\n",
       "    </tr>\n",
       "    <tr>\n",
       "      <th>2</th>\n",
       "      <td>3839.15</td>\n",
       "      <td>3837.55</td>\n",
       "      <td>1</td>\n",
       "      <td>3</td>\n",
       "      <td>25.20</td>\n",
       "      <td>21.400</td>\n",
       "      <td>3.94</td>\n",
       "      <td>3.16</td>\n",
       "      <td>10.8</td>\n",
       "      <td>NaN</td>\n",
       "      <td>NaN</td>\n",
       "      <td>NaN</td>\n",
       "      <td>2.69</td>\n",
       "      <td>NaN</td>\n",
       "    </tr>\n",
       "    <tr>\n",
       "      <th>3</th>\n",
       "      <td>3839.40</td>\n",
       "      <td>3837.80</td>\n",
       "      <td>1</td>\n",
       "      <td>4</td>\n",
       "      <td>1.02</td>\n",
       "      <td>0.694</td>\n",
       "      <td>NaN</td>\n",
       "      <td>NaN</td>\n",
       "      <td>12.8</td>\n",
       "      <td>NaN</td>\n",
       "      <td>NaN</td>\n",
       "      <td>NaN</td>\n",
       "      <td>2.70</td>\n",
       "      <td>NaN</td>\n",
       "    </tr>\n",
       "    <tr>\n",
       "      <th>4</th>\n",
       "      <td>3839.48</td>\n",
       "      <td>3837.88</td>\n",
       "      <td>1</td>\n",
       "      <td>5</td>\n",
       "      <td>NaN</td>\n",
       "      <td>NaN</td>\n",
       "      <td>NaN</td>\n",
       "      <td>NaN</td>\n",
       "      <td>NaN</td>\n",
       "      <td>18.8</td>\n",
       "      <td>52.9</td>\n",
       "      <td>36.4</td>\n",
       "      <td>NaN</td>\n",
       "      <td>2.68</td>\n",
       "    </tr>\n",
       "  </tbody>\n",
       "</table>\n",
       "</div>"
      ],
      "text/plain": [
       "     DEPTH  OrigDepth  CORE_NO  SAMPLE   CKHG    CKHL  CKVG  CKVL  CPOR  \\\n",
       "0  3838.60    3837.00        1       1  13.80  11.500   NaN   NaN  17.0   \n",
       "1  3838.85    3837.25        1       2    NaN     NaN   NaN   NaN  14.8   \n",
       "2  3839.15    3837.55        1       3  25.20  21.400  3.94  3.16  10.8   \n",
       "3  3839.40    3837.80        1       4   1.02   0.694   NaN   NaN  12.8   \n",
       "4  3839.48    3837.88        1       5    NaN     NaN   NaN   NaN   NaN   \n",
       "\n",
       "   CPORV    So    Sw   CGD  CGDV  \n",
       "0    NaN   NaN   NaN  2.66   NaN  \n",
       "1    NaN   NaN   NaN  2.67   NaN  \n",
       "2    NaN   NaN   NaN  2.69   NaN  \n",
       "3    NaN   NaN   NaN  2.70   NaN  \n",
       "4   18.8  52.9  36.4   NaN  2.68  "
      ]
     },
     "execution_count": 2,
     "metadata": {},
     "output_type": "execute_result"
    }
   ],
   "source": [
    "df = pd.read_csv('poro_perm.csv')\n",
    "df.head()"
   ]
  },
  {
   "cell_type": "code",
   "execution_count": 3,
   "id": "f8ca8526",
   "metadata": {},
   "outputs": [
    {
     "data": {
      "text/html": [
       "<div>\n",
       "<style scoped>\n",
       "    .dataframe tbody tr th:only-of-type {\n",
       "        vertical-align: middle;\n",
       "    }\n",
       "\n",
       "    .dataframe tbody tr th {\n",
       "        vertical-align: top;\n",
       "    }\n",
       "\n",
       "    .dataframe thead th {\n",
       "        text-align: right;\n",
       "    }\n",
       "</style>\n",
       "<table border=\"1\" class=\"dataframe\">\n",
       "  <thead>\n",
       "    <tr style=\"text-align: right;\">\n",
       "      <th></th>\n",
       "      <th>DEPTH</th>\n",
       "      <th>OrigDepth</th>\n",
       "      <th>CORE_NO</th>\n",
       "      <th>SAMPLE</th>\n",
       "      <th>CKHG</th>\n",
       "      <th>CKHL</th>\n",
       "      <th>CKVG</th>\n",
       "      <th>CKVL</th>\n",
       "      <th>CPOR</th>\n",
       "      <th>CPORV</th>\n",
       "      <th>So</th>\n",
       "      <th>Sw</th>\n",
       "      <th>CGD</th>\n",
       "      <th>CGDV</th>\n",
       "    </tr>\n",
       "  </thead>\n",
       "  <tbody>\n",
       "    <tr>\n",
       "      <th>count</th>\n",
       "      <td>728.000000</td>\n",
       "      <td>728.000000</td>\n",
       "      <td>728.00000</td>\n",
       "      <td>728.000000</td>\n",
       "      <td>557.000000</td>\n",
       "      <td>557.000000</td>\n",
       "      <td>141.000000</td>\n",
       "      <td>141.000000</td>\n",
       "      <td>593.000000</td>\n",
       "      <td>71.000000</td>\n",
       "      <td>71.000000</td>\n",
       "      <td>71.000000</td>\n",
       "      <td>594.000000</td>\n",
       "      <td>71.000000</td>\n",
       "    </tr>\n",
       "    <tr>\n",
       "      <th>mean</th>\n",
       "      <td>3920.528338</td>\n",
       "      <td>3920.153338</td>\n",
       "      <td>3.93956</td>\n",
       "      <td>364.500000</td>\n",
       "      <td>649.801463</td>\n",
       "      <td>627.972549</td>\n",
       "      <td>490.086071</td>\n",
       "      <td>472.875284</td>\n",
       "      <td>16.829342</td>\n",
       "      <td>19.497183</td>\n",
       "      <td>56.943662</td>\n",
       "      <td>28.309859</td>\n",
       "      <td>2.653569</td>\n",
       "      <td>2.656901</td>\n",
       "    </tr>\n",
       "    <tr>\n",
       "      <th>std</th>\n",
       "      <td>46.545695</td>\n",
       "      <td>46.902816</td>\n",
       "      <td>1.75976</td>\n",
       "      <td>210.299786</td>\n",
       "      <td>2160.127387</td>\n",
       "      <td>2116.307023</td>\n",
       "      <td>1973.601098</td>\n",
       "      <td>1929.420018</td>\n",
       "      <td>6.552523</td>\n",
       "      <td>5.657763</td>\n",
       "      <td>21.084319</td>\n",
       "      <td>19.203758</td>\n",
       "      <td>0.046735</td>\n",
       "      <td>0.035560</td>\n",
       "    </tr>\n",
       "    <tr>\n",
       "      <th>min</th>\n",
       "      <td>3838.600000</td>\n",
       "      <td>3837.000000</td>\n",
       "      <td>1.00000</td>\n",
       "      <td>1.000000</td>\n",
       "      <td>0.018000</td>\n",
       "      <td>0.010000</td>\n",
       "      <td>0.030000</td>\n",
       "      <td>0.017000</td>\n",
       "      <td>2.900000</td>\n",
       "      <td>2.700000</td>\n",
       "      <td>0.000000</td>\n",
       "      <td>4.500000</td>\n",
       "      <td>2.250000</td>\n",
       "      <td>2.620000</td>\n",
       "    </tr>\n",
       "    <tr>\n",
       "      <th>25%</th>\n",
       "      <td>3882.580000</td>\n",
       "      <td>3881.980000</td>\n",
       "      <td>3.00000</td>\n",
       "      <td>182.750000</td>\n",
       "      <td>2.620000</td>\n",
       "      <td>2.030000</td>\n",
       "      <td>0.874000</td>\n",
       "      <td>0.590000</td>\n",
       "      <td>12.000000</td>\n",
       "      <td>18.150000</td>\n",
       "      <td>52.000000</td>\n",
       "      <td>18.200000</td>\n",
       "      <td>2.640000</td>\n",
       "      <td>2.630000</td>\n",
       "    </tr>\n",
       "    <tr>\n",
       "      <th>50%</th>\n",
       "      <td>3921.725000</td>\n",
       "      <td>3921.125000</td>\n",
       "      <td>4.00000</td>\n",
       "      <td>364.500000</td>\n",
       "      <td>59.900000</td>\n",
       "      <td>52.300000</td>\n",
       "      <td>27.300000</td>\n",
       "      <td>23.300000</td>\n",
       "      <td>18.100000</td>\n",
       "      <td>21.200000</td>\n",
       "      <td>62.300000</td>\n",
       "      <td>22.800000</td>\n",
       "      <td>2.650000</td>\n",
       "      <td>2.650000</td>\n",
       "    </tr>\n",
       "    <tr>\n",
       "      <th>75%</th>\n",
       "      <td>3960.287500</td>\n",
       "      <td>3960.487500</td>\n",
       "      <td>5.00000</td>\n",
       "      <td>546.250000</td>\n",
       "      <td>213.000000</td>\n",
       "      <td>194.000000</td>\n",
       "      <td>108.000000</td>\n",
       "      <td>96.300000</td>\n",
       "      <td>21.700000</td>\n",
       "      <td>23.500000</td>\n",
       "      <td>68.500000</td>\n",
       "      <td>29.950000</td>\n",
       "      <td>2.660000</td>\n",
       "      <td>2.660000</td>\n",
       "    </tr>\n",
       "    <tr>\n",
       "      <th>max</th>\n",
       "      <td>3999.950000</td>\n",
       "      <td>3999.750000</td>\n",
       "      <td>7.00000</td>\n",
       "      <td>728.000000</td>\n",
       "      <td>20800.000000</td>\n",
       "      <td>20500.000000</td>\n",
       "      <td>14800.000000</td>\n",
       "      <td>14500.000000</td>\n",
       "      <td>36.000000</td>\n",
       "      <td>27.800000</td>\n",
       "      <td>86.000000</td>\n",
       "      <td>90.800000</td>\n",
       "      <td>3.030000</td>\n",
       "      <td>2.810000</td>\n",
       "    </tr>\n",
       "  </tbody>\n",
       "</table>\n",
       "</div>"
      ],
      "text/plain": [
       "             DEPTH    OrigDepth    CORE_NO      SAMPLE          CKHG  \\\n",
       "count   728.000000   728.000000  728.00000  728.000000    557.000000   \n",
       "mean   3920.528338  3920.153338    3.93956  364.500000    649.801463   \n",
       "std      46.545695    46.902816    1.75976  210.299786   2160.127387   \n",
       "min    3838.600000  3837.000000    1.00000    1.000000      0.018000   \n",
       "25%    3882.580000  3881.980000    3.00000  182.750000      2.620000   \n",
       "50%    3921.725000  3921.125000    4.00000  364.500000     59.900000   \n",
       "75%    3960.287500  3960.487500    5.00000  546.250000    213.000000   \n",
       "max    3999.950000  3999.750000    7.00000  728.000000  20800.000000   \n",
       "\n",
       "               CKHL          CKVG          CKVL        CPOR      CPORV  \\\n",
       "count    557.000000    141.000000    141.000000  593.000000  71.000000   \n",
       "mean     627.972549    490.086071    472.875284   16.829342  19.497183   \n",
       "std     2116.307023   1973.601098   1929.420018    6.552523   5.657763   \n",
       "min        0.010000      0.030000      0.017000    2.900000   2.700000   \n",
       "25%        2.030000      0.874000      0.590000   12.000000  18.150000   \n",
       "50%       52.300000     27.300000     23.300000   18.100000  21.200000   \n",
       "75%      194.000000    108.000000     96.300000   21.700000  23.500000   \n",
       "max    20500.000000  14800.000000  14500.000000   36.000000  27.800000   \n",
       "\n",
       "              So         Sw         CGD       CGDV  \n",
       "count  71.000000  71.000000  594.000000  71.000000  \n",
       "mean   56.943662  28.309859    2.653569   2.656901  \n",
       "std    21.084319  19.203758    0.046735   0.035560  \n",
       "min     0.000000   4.500000    2.250000   2.620000  \n",
       "25%    52.000000  18.200000    2.640000   2.630000  \n",
       "50%    62.300000  22.800000    2.650000   2.650000  \n",
       "75%    68.500000  29.950000    2.660000   2.660000  \n",
       "max    86.000000  90.800000    3.030000   2.810000  "
      ]
     },
     "execution_count": 3,
     "metadata": {},
     "output_type": "execute_result"
    }
   ],
   "source": [
    "df.describe()"
   ]
  },
  {
   "cell_type": "code",
   "execution_count": 4,
   "id": "08189e56",
   "metadata": {},
   "outputs": [
    {
     "data": {
      "text/plain": [
       "Index(['DEPTH', 'OrigDepth', 'CORE_NO', 'SAMPLE', 'CKHG', 'CKHL', 'CKVG',\n",
       "       'CKVL', 'CPOR', 'CPORV', 'So', 'Sw', 'CGD', 'CGDV'],\n",
       "      dtype='object')"
      ]
     },
     "execution_count": 4,
     "metadata": {},
     "output_type": "execute_result"
    }
   ],
   "source": [
    "df.columns"
   ]
  },
  {
   "cell_type": "code",
   "execution_count": 5,
   "id": "1d9f2403",
   "metadata": {},
   "outputs": [
    {
     "data": {
      "text/plain": [
       "DEPTH        False\n",
       "OrigDepth    False\n",
       "CORE_NO      False\n",
       "SAMPLE       False\n",
       "CKHG         False\n",
       "CKHL         False\n",
       "CKVG         False\n",
       "CKVL         False\n",
       "CPOR         False\n",
       "CPORV        False\n",
       "So           False\n",
       "Sw           False\n",
       "CGD          False\n",
       "CGDV         False\n",
       "dtype: bool"
      ]
     },
     "execution_count": 5,
     "metadata": {},
     "output_type": "execute_result"
    }
   ],
   "source": [
    "df.isnull().all()"
   ]
  },
  {
   "cell_type": "code",
   "execution_count": 6,
   "id": "69ea3d58",
   "metadata": {},
   "outputs": [
    {
     "data": {
      "image/png": "[encoded data removed]",
      "text/plain": [
       "<Figure size 640x480 with 1 Axes>"
      ]
     },
     "metadata": {},
     "output_type": "display_data"
    }
   ],
   "source": [
    "df.plot(kind='scatter',x=\"CPOR\", y=\"CKHG\")\n",
    "plt.ylabel('Core Perm (mD)')\n",
    "plt.xlabel('Core Porosity (%)')\n",
    "plt.yscale('log')\n",
    "plt.grid()"
   ]
  },
  {
   "cell_type": "code",
   "execution_count": 7,
   "id": "2017bf01",
   "metadata": {},
   "outputs": [
    {
     "data": {
      "text/html": [
       "<div>\n",
       "<style scoped>\n",
       "    .dataframe tbody tr th:only-of-type {\n",
       "        vertical-align: middle;\n",
       "    }\n",
       "\n",
       "    .dataframe tbody tr th {\n",
       "        vertical-align: top;\n",
       "    }\n",
       "\n",
       "    .dataframe thead th {\n",
       "        text-align: right;\n",
       "    }\n",
       "</style>\n",
       "<table border=\"1\" class=\"dataframe\">\n",
       "  <thead>\n",
       "    <tr style=\"text-align: right;\">\n",
       "      <th></th>\n",
       "      <th>CPOR</th>\n",
       "      <th>CKHG</th>\n",
       "    </tr>\n",
       "  </thead>\n",
       "  <tbody>\n",
       "    <tr>\n",
       "      <th>0</th>\n",
       "      <td>17.0</td>\n",
       "      <td>13.80</td>\n",
       "    </tr>\n",
       "    <tr>\n",
       "      <th>1</th>\n",
       "      <td>14.8</td>\n",
       "      <td>NaN</td>\n",
       "    </tr>\n",
       "    <tr>\n",
       "      <th>2</th>\n",
       "      <td>10.8</td>\n",
       "      <td>25.20</td>\n",
       "    </tr>\n",
       "    <tr>\n",
       "      <th>3</th>\n",
       "      <td>12.8</td>\n",
       "      <td>1.02</td>\n",
       "    </tr>\n",
       "    <tr>\n",
       "      <th>4</th>\n",
       "      <td>NaN</td>\n",
       "      <td>NaN</td>\n",
       "    </tr>\n",
       "  </tbody>\n",
       "</table>\n",
       "</div>"
      ],
      "text/plain": [
       "   CPOR   CKHG\n",
       "0  17.0  13.80\n",
       "1  14.8    NaN\n",
       "2  10.8  25.20\n",
       "3  12.8   1.02\n",
       "4   NaN    NaN"
      ]
     },
     "execution_count": 7,
     "metadata": {},
     "output_type": "execute_result"
    }
   ],
   "source": [
    "# copy of the dataframe\n",
    "\n",
    "df_new = df[['CPOR','CKHG']].copy()\n",
    "df_new.head()"
   ]
  },
  {
   "cell_type": "code",
   "execution_count": 8,
   "id": "ab48b3f7",
   "metadata": {},
   "outputs": [
    {
     "data": {
      "text/plain": [
       "(728, 2)"
      ]
     },
     "execution_count": 8,
     "metadata": {},
     "output_type": "execute_result"
    }
   ],
   "source": [
    "df_new.shape"
   ]
  },
  {
   "cell_type": "code",
   "execution_count": 9,
   "id": "7b299380",
   "metadata": {},
   "outputs": [
    {
     "data": {
      "text/plain": [
       "(557, 2)"
      ]
     },
     "execution_count": 9,
     "metadata": {},
     "output_type": "execute_result"
    }
   ],
   "source": [
    "df_new.dropna(inplace=True)\n",
    "df_new.shape"
   ]
  },
  {
   "cell_type": "code",
   "execution_count": 12,
   "id": "c7954a8d",
   "metadata": {},
   "outputs": [],
   "source": [
    "import statsmodels.api as sm"
   ]
  },
  {
   "cell_type": "code",
   "execution_count": 13,
   "id": "c04e31f5",
   "metadata": {},
   "outputs": [
    {
     "data": {
      "text/plain": [
       "0    17.0\n",
       "2    10.8\n",
       "3    12.8\n",
       "5    16.4\n",
       "6    16.5\n",
       "Name: CPOR, dtype: float64"
      ]
     },
     "execution_count": 13,
     "metadata": {},
     "output_type": "execute_result"
    }
   ],
   "source": [
    "X = df_new.CPOR\n",
    "X.head()"
   ]
  },
  {
   "cell_type": "code",
   "execution_count": 14,
   "id": "737218b0",
   "metadata": {},
   "outputs": [
    {
     "data": {
      "text/html": [
       "<div>\n",
       "<style scoped>\n",
       "    .dataframe tbody tr th:only-of-type {\n",
       "        vertical-align: middle;\n",
       "    }\n",
       "\n",
       "    .dataframe tbody tr th {\n",
       "        vertical-align: top;\n",
       "    }\n",
       "\n",
       "    .dataframe thead th {\n",
       "        text-align: right;\n",
       "    }\n",
       "</style>\n",
       "<table border=\"1\" class=\"dataframe\">\n",
       "  <thead>\n",
       "    <tr style=\"text-align: right;\">\n",
       "      <th></th>\n",
       "      <th>const</th>\n",
       "      <th>CPOR</th>\n",
       "    </tr>\n",
       "  </thead>\n",
       "  <tbody>\n",
       "    <tr>\n",
       "      <th>0</th>\n",
       "      <td>1.0</td>\n",
       "      <td>17.0</td>\n",
       "    </tr>\n",
       "    <tr>\n",
       "      <th>2</th>\n",
       "      <td>1.0</td>\n",
       "      <td>10.8</td>\n",
       "    </tr>\n",
       "    <tr>\n",
       "      <th>3</th>\n",
       "      <td>1.0</td>\n",
       "      <td>12.8</td>\n",
       "    </tr>\n",
       "    <tr>\n",
       "      <th>5</th>\n",
       "      <td>1.0</td>\n",
       "      <td>16.4</td>\n",
       "    </tr>\n",
       "    <tr>\n",
       "      <th>6</th>\n",
       "      <td>1.0</td>\n",
       "      <td>16.5</td>\n",
       "    </tr>\n",
       "    <tr>\n",
       "      <th>...</th>\n",
       "      <td>...</td>\n",
       "      <td>...</td>\n",
       "    </tr>\n",
       "    <tr>\n",
       "      <th>723</th>\n",
       "      <td>1.0</td>\n",
       "      <td>28.9</td>\n",
       "    </tr>\n",
       "    <tr>\n",
       "      <th>724</th>\n",
       "      <td>1.0</td>\n",
       "      <td>20.7</td>\n",
       "    </tr>\n",
       "    <tr>\n",
       "      <th>725</th>\n",
       "      <td>1.0</td>\n",
       "      <td>20.9</td>\n",
       "    </tr>\n",
       "    <tr>\n",
       "      <th>726</th>\n",
       "      <td>1.0</td>\n",
       "      <td>17.3</td>\n",
       "    </tr>\n",
       "    <tr>\n",
       "      <th>727</th>\n",
       "      <td>1.0</td>\n",
       "      <td>18.5</td>\n",
       "    </tr>\n",
       "  </tbody>\n",
       "</table>\n",
       "<p>557 rows × 2 columns</p>\n",
       "</div>"
      ],
      "text/plain": [
       "     const  CPOR\n",
       "0      1.0  17.0\n",
       "2      1.0  10.8\n",
       "3      1.0  12.8\n",
       "5      1.0  16.4\n",
       "6      1.0  16.5\n",
       "..     ...   ...\n",
       "723    1.0  28.9\n",
       "724    1.0  20.7\n",
       "725    1.0  20.9\n",
       "726    1.0  17.3\n",
       "727    1.0  18.5\n",
       "\n",
       "[557 rows x 2 columns]"
      ]
     },
     "execution_count": 14,
     "metadata": {},
     "output_type": "execute_result"
    }
   ],
   "source": [
    "X = sm.add_constant(X)\n",
    "X"
   ]
  },
  {
   "cell_type": "code",
   "execution_count": 16,
   "id": "7671b2dc",
   "metadata": {},
   "outputs": [
    {
     "data": {
      "text/plain": [
       "0    1.139879\n",
       "2    1.401401\n",
       "3    0.008600\n",
       "5    2.719331\n",
       "6    2.437751\n",
       "Name: CKHG, dtype: float64"
      ]
     },
     "execution_count": 16,
     "metadata": {},
     "output_type": "execute_result"
    }
   ],
   "source": [
    "y = np.log10(df_new.CKHG)\n",
    "y.head()"
   ]
  },
  {
   "cell_type": "code",
   "execution_count": 17,
   "id": "717a2805",
   "metadata": {},
   "outputs": [],
   "source": [
    "# building the model\n",
    "\n",
    "model = sm.OLS(y,X,missing='drop')\n",
    "results = model.fit()"
   ]
  },
  {
   "cell_type": "code",
   "execution_count": 18,
   "id": "cdd0f0c6",
   "metadata": {},
   "outputs": [
    {
     "data": {
      "text/html": [
       "<table class=\"simpletable\">\n",
       "<caption>OLS Regression Results</caption>\n",
       "<tr>\n",
       "  <th>Dep. Variable:</th>          <td>CKHG</td>       <th>  R-squared:         </th> <td>   0.707</td> \n",
       "</tr>\n",
       "<tr>\n",
       "  <th>Model:</th>                   <td>OLS</td>       <th>  Adj. R-squared:    </th> <td>   0.707</td> \n",
       "</tr>\n",
       "<tr>\n",
       "  <th>Method:</th>             <td>Least Squares</td>  <th>  F-statistic:       </th> <td>   1340.</td> \n",
       "</tr>\n",
       "<tr>\n",
       "  <th>Date:</th>             <td>Sat, 12 Aug 2023</td> <th>  Prob (F-statistic):</th> <td>4.26e-150</td>\n",
       "</tr>\n",
       "<tr>\n",
       "  <th>Time:</th>                 <td>11:59:02</td>     <th>  Log-Likelihood:    </th> <td> -601.06</td> \n",
       "</tr>\n",
       "<tr>\n",
       "  <th>No. Observations:</th>      <td>   557</td>      <th>  AIC:               </th> <td>   1206.</td> \n",
       "</tr>\n",
       "<tr>\n",
       "  <th>Df Residuals:</th>          <td>   555</td>      <th>  BIC:               </th> <td>   1215.</td> \n",
       "</tr>\n",
       "<tr>\n",
       "  <th>Df Model:</th>              <td>     1</td>      <th>                     </th>     <td> </td>    \n",
       "</tr>\n",
       "<tr>\n",
       "  <th>Covariance Type:</th>      <td>nonrobust</td>    <th>                     </th>     <td> </td>    \n",
       "</tr>\n",
       "</table>\n",
       "<table class=\"simpletable\">\n",
       "<tr>\n",
       "    <td></td>       <th>coef</th>     <th>std err</th>      <th>t</th>      <th>P>|t|</th>  <th>[0.025</th>    <th>0.975]</th>  \n",
       "</tr>\n",
       "<tr>\n",
       "  <th>const</th> <td>   -1.5561</td> <td>    0.088</td> <td>  -17.768</td> <td> 0.000</td> <td>   -1.728</td> <td>   -1.384</td>\n",
       "</tr>\n",
       "<tr>\n",
       "  <th>CPOR</th>  <td>    0.1743</td> <td>    0.005</td> <td>   36.602</td> <td> 0.000</td> <td>    0.165</td> <td>    0.184</td>\n",
       "</tr>\n",
       "</table>\n",
       "<table class=\"simpletable\">\n",
       "<tr>\n",
       "  <th>Omnibus:</th>       <td> 6.685</td> <th>  Durbin-Watson:     </th> <td>   0.853</td>\n",
       "</tr>\n",
       "<tr>\n",
       "  <th>Prob(Omnibus):</th> <td> 0.035</td> <th>  Jarque-Bera (JB):  </th> <td>   6.790</td>\n",
       "</tr>\n",
       "<tr>\n",
       "  <th>Skew:</th>          <td> 0.254</td> <th>  Prob(JB):          </th> <td>  0.0335</td>\n",
       "</tr>\n",
       "<tr>\n",
       "  <th>Kurtosis:</th>      <td> 2.816</td> <th>  Cond. No.          </th> <td>    53.4</td>\n",
       "</tr>\n",
       "</table><br/><br/>Notes:<br/>[1] Standard Errors assume that the covariance matrix of the errors is correctly specified."
      ],
      "text/latex": [
       "\\begin{center}\n",
       "\\begin{tabular}{lclc}\n",
       "\\toprule\n",
       "\\textbf{Dep. Variable:}    &       CKHG       & \\textbf{  R-squared:         } &     0.707   \\\\\n",
       "\\textbf{Model:}            &       OLS        & \\textbf{  Adj. R-squared:    } &     0.707   \\\\\n",
       "\\textbf{Method:}           &  Least Squares   & \\textbf{  F-statistic:       } &     1340.   \\\\\n",
       "\\textbf{Date:}             & Sat, 12 Aug 2023 & \\textbf{  Prob (F-statistic):} & 4.26e-150   \\\\\n",
       "\\textbf{Time:}             &     11:59:02     & \\textbf{  Log-Likelihood:    } &   -601.06   \\\\\n",
       "\\textbf{No. Observations:} &         557      & \\textbf{  AIC:               } &     1206.   \\\\\n",
       "\\textbf{Df Residuals:}     &         555      & \\textbf{  BIC:               } &     1215.   \\\\\n",
       "\\textbf{Df Model:}         &           1      & \\textbf{                     } &             \\\\\n",
       "\\textbf{Covariance Type:}  &    nonrobust     & \\textbf{                     } &             \\\\\n",
       "\\bottomrule\n",
       "\\end{tabular}\n",
       "\\begin{tabular}{lcccccc}\n",
       "               & \\textbf{coef} & \\textbf{std err} & \\textbf{t} & \\textbf{P$> |$t$|$} & \\textbf{[0.025} & \\textbf{0.975]}  \\\\\n",
       "\\midrule\n",
       "\\textbf{const} &      -1.5561  &        0.088     &   -17.768  &         0.000        &       -1.728    &       -1.384     \\\\\n",
       "\\textbf{CPOR}  &       0.1743  &        0.005     &    36.602  &         0.000        &        0.165    &        0.184     \\\\\n",
       "\\bottomrule\n",
       "\\end{tabular}\n",
       "\\begin{tabular}{lclc}\n",
       "\\textbf{Omnibus:}       &  6.685 & \\textbf{  Durbin-Watson:     } &    0.853  \\\\\n",
       "\\textbf{Prob(Omnibus):} &  0.035 & \\textbf{  Jarque-Bera (JB):  } &    6.790  \\\\\n",
       "\\textbf{Skew:}          &  0.254 & \\textbf{  Prob(JB):          } &   0.0335  \\\\\n",
       "\\textbf{Kurtosis:}      &  2.816 & \\textbf{  Cond. No.          } &     53.4  \\\\\n",
       "\\bottomrule\n",
       "\\end{tabular}\n",
       "%\\caption{OLS Regression Results}\n",
       "\\end{center}\n",
       "\n",
       "Notes: \\newline\n",
       " [1] Standard Errors assume that the covariance matrix of the errors is correctly specified."
      ],
      "text/plain": [
       "<class 'statsmodels.iolib.summary.Summary'>\n",
       "\"\"\"\n",
       "                            OLS Regression Results                            \n",
       "==============================================================================\n",
       "Dep. Variable:                   CKHG   R-squared:                       0.707\n",
       "Model:                            OLS   Adj. R-squared:                  0.707\n",
       "Method:                 Least Squares   F-statistic:                     1340.\n",
       "Date:                Sat, 12 Aug 2023   Prob (F-statistic):          4.26e-150\n",
       "Time:                        11:59:02   Log-Likelihood:                -601.06\n",
       "No. Observations:                 557   AIC:                             1206.\n",
       "Df Residuals:                     555   BIC:                             1215.\n",
       "Df Model:                           1                                         \n",
       "Covariance Type:            nonrobust                                         \n",
       "==============================================================================\n",
       "                 coef    std err          t      P>|t|      [0.025      0.975]\n",
       "------------------------------------------------------------------------------\n",
       "const         -1.5561      0.088    -17.768      0.000      -1.728      -1.384\n",
       "CPOR           0.1743      0.005     36.602      0.000       0.165       0.184\n",
       "==============================================================================\n",
       "Omnibus:                        6.685   Durbin-Watson:                   0.853\n",
       "Prob(Omnibus):                  0.035   Jarque-Bera (JB):                6.790\n",
       "Skew:                           0.254   Prob(JB):                       0.0335\n",
       "Kurtosis:                       2.816   Cond. No.                         53.4\n",
       "==============================================================================\n",
       "\n",
       "Notes:\n",
       "[1] Standard Errors assume that the covariance matrix of the errors is correctly specified.\n",
       "\"\"\""
      ]
     },
     "execution_count": 18,
     "metadata": {},
     "output_type": "execute_result"
    }
   ],
   "source": [
    "results.summary()"
   ]
  },
  {
   "cell_type": "code",
   "execution_count": 19,
   "id": "843a6d4e",
   "metadata": {},
   "outputs": [
    {
     "data": {
      "text/plain": [
       "const   -1.556078\n",
       "CPOR     0.174287\n",
       "dtype: float64"
      ]
     },
     "execution_count": 19,
     "metadata": {},
     "output_type": "execute_result"
    }
   ],
   "source": [
    "results.params"
   ]
  },
  {
   "cell_type": "code",
   "execution_count": 20,
   "id": "aedf00ee",
   "metadata": {},
   "outputs": [
    {
     "data": {
      "text/html": [
       "<div>\n",
       "<style scoped>\n",
       "    .dataframe tbody tr th:only-of-type {\n",
       "        vertical-align: middle;\n",
       "    }\n",
       "\n",
       "    .dataframe tbody tr th {\n",
       "        vertical-align: top;\n",
       "    }\n",
       "\n",
       "    .dataframe thead th {\n",
       "        text-align: right;\n",
       "    }\n",
       "</style>\n",
       "<table border=\"1\" class=\"dataframe\">\n",
       "  <thead>\n",
       "    <tr style=\"text-align: right;\">\n",
       "      <th></th>\n",
       "      <th>const</th>\n",
       "      <th>CPOR</th>\n",
       "    </tr>\n",
       "  </thead>\n",
       "  <tbody>\n",
       "    <tr>\n",
       "      <th>0</th>\n",
       "      <td>-1.381791</td>\n",
       "      <td>1.406802</td>\n",
       "    </tr>\n",
       "    <tr>\n",
       "      <th>2</th>\n",
       "      <td>-1.381791</td>\n",
       "      <td>0.326222</td>\n",
       "    </tr>\n",
       "    <tr>\n",
       "      <th>3</th>\n",
       "      <td>-1.381791</td>\n",
       "      <td>0.674796</td>\n",
       "    </tr>\n",
       "    <tr>\n",
       "      <th>5</th>\n",
       "      <td>-1.381791</td>\n",
       "      <td>1.302229</td>\n",
       "    </tr>\n",
       "    <tr>\n",
       "      <th>6</th>\n",
       "      <td>-1.381791</td>\n",
       "      <td>1.319658</td>\n",
       "    </tr>\n",
       "  </tbody>\n",
       "</table>\n",
       "</div>"
      ],
      "text/plain": [
       "      const      CPOR\n",
       "0 -1.381791  1.406802\n",
       "2 -1.381791  0.326222\n",
       "3 -1.381791  0.674796\n",
       "5 -1.381791  1.302229\n",
       "6 -1.381791  1.319658"
      ]
     },
     "execution_count": 20,
     "metadata": {},
     "output_type": "execute_result"
    }
   ],
   "source": [
    "m = results.params[1]\n",
    "c = results.params[0]\n",
    "\n",
    "y_pred = c + m*X\n",
    "y_pred.head()"
   ]
  },
  {
   "cell_type": "code",
   "execution_count": 23,
   "id": "351c2798",
   "metadata": {},
   "outputs": [
    {
     "name": "stdout",
     "output_type": "stream",
     "text": [
      "(557, 2)\n",
      "(557,)\n",
      "(557, 2)\n"
     ]
    }
   ],
   "source": [
    "print(X.shape)\n",
    "print(y.shape)\n",
    "\n",
    "print(y_pred.shape)"
   ]
  },
  {
   "cell_type": "code",
   "execution_count": 26,
   "id": "4d42fc5a",
   "metadata": {},
   "outputs": [
    {
     "data": {
      "text/plain": [
       "[<matplotlib.lines.Line2D at 0x1d5f0a2a8c0>,\n",
       " <matplotlib.lines.Line2D at 0x1d5f0a2a8f0>]"
      ]
     },
     "execution_count": 26,
     "metadata": {},
     "output_type": "execute_result"
    },
    {
     "data": {
      "image/png": "[encoded data removed]",
      "text/plain": [
       "<Figure size 640x480 with 1 Axes>"
      ]
     },
     "metadata": {},
     "output_type": "display_data"
    }
   ],
   "source": [
    "fig,ax = plt.subplots()\n",
    "\n",
    "ax.axis([0, 30, 0.01, 100000])\n",
    "ax.semilogy(X,y)\n",
    "ax.semilogy(X,y_pred)"
   ]
  },
  {
   "cell_type": "code",
   "execution_count": 24,
   "id": "9fcae537",
   "metadata": {},
   "outputs": [
    {
     "data": {
      "image/png": "[encoded data removed]",
      "text/plain": [
       "<Figure size 640x480 with 1 Axes>"
      ]
     },
     "metadata": {},
     "output_type": "display_data"
    }
   ],
   "source": [
    "from matplotlib.ticker import FuncFormatter\n",
    "fig, ax = plt.subplots()\n",
    "\n",
    "ax.axis([0, 30, 0.01, 100000])\n",
    "ax.semilogy(df_new['CPOR'], df_new['CKHG'], 'bo')\n",
    "\n",
    "ax.grid(True)\n",
    "ax.set_ylabel('Core Perm (mD)')\n",
    "ax.set_xlabel('Core Porosity (%)')\n",
    "\n",
    "ax.semilogy(df_new['CPOR'], 10**(results.params[1] * df_new['CPOR'] + results.params[0]), 'r-')\n",
    "\n",
    "#Format the axes so that they show whole numbers\n",
    "for axis in [ax.yaxis, ax.xaxis]:\n",
    "    formatter = FuncFormatter(lambda y, _: '{:.16g}'.format(y))\n",
    "    axis.set_major_formatter(formatter)\n",
    "    \n",
    "plt.savefig('predicted_poro_perm_xplot.png', dpi=100)"
   ]
  },
  {
   "cell_type": "code",
   "execution_count": null,
   "id": "86dfb488",
   "metadata": {},
   "outputs": [],
   "source": []
  }
 ],
 "metadata": {
  "kernelspec": {
   "display_name": "Python 3 (ipykernel)",
   "language": "python",
   "name": "python3"
  },
  "language_info": {
   "codemirror_mode": {
    "name": "ipython",
    "version": 3
   },
   "file_extension": ".py",
   "mimetype": "text/x-python",
   "name": "python",
   "nbconvert_exporter": "python",
   "pygments_lexer": "ipython3",
   "version": "3.10.12"
  }
 },
 "nbformat": 4,
 "nbformat_minor": 5
}
